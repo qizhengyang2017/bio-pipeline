{
 "cells": [
  {
   "cell_type": "code",
   "execution_count": 10,
   "id": "4b828622-425d-482f-af74-314a91c91791",
   "metadata": {},
   "outputs": [],
   "source": [
    "library(plink2R)\n",
    "genotype <- read_plink('filter2_Q600_SNPs_joint_216_addID',impute='none')\n",
    "rownames(genotype$bed) <- sapply(strsplit(rownames(genotype$bed),\":\"),function(x)x[1])"
   ]
  },
  {
   "cell_type": "code",
   "execution_count": 8,
   "id": "82a4d984-9ac7-4462-966d-6f6462a0610b",
   "metadata": {},
   "outputs": [
    {
     "data": {
      "text/html": [
       "<table class=\"dataframe\">\n",
       "<caption>A data.frame: 6 × 2</caption>\n",
       "<thead>\n",
       "\t<tr><th></th><th scope=col>sample</th><th scope=col>genotype</th></tr>\n",
       "\t<tr><th></th><th scope=col>&lt;chr&gt;</th><th scope=col>&lt;chr&gt;</th></tr>\n",
       "</thead>\n",
       "<tbody>\n",
       "\t<tr><th scope=row>1</th><td>J100 </td><td>0</td></tr>\n",
       "\t<tr><th scope=row>2</th><td>J101 </td><td>2</td></tr>\n",
       "\t<tr><th scope=row>3</th><td>J10-2</td><td>0</td></tr>\n",
       "\t<tr><th scope=row>4</th><td>J102 </td><td>0</td></tr>\n",
       "\t<tr><th scope=row>5</th><td>J103 </td><td>0</td></tr>\n",
       "\t<tr><th scope=row>6</th><td>J104 </td><td>2</td></tr>\n",
       "</tbody>\n",
       "</table>\n"
      ],
      "text/latex": [
       "A data.frame: 6 × 2\n",
       "\\begin{tabular}{r|ll}\n",
       "  & sample & genotype\\\\\n",
       "  & <chr> & <chr>\\\\\n",
       "\\hline\n",
       "\t1 & J100  & 0\\\\\n",
       "\t2 & J101  & 2\\\\\n",
       "\t3 & J10-2 & 0\\\\\n",
       "\t4 & J102  & 0\\\\\n",
       "\t5 & J103  & 0\\\\\n",
       "\t6 & J104  & 2\\\\\n",
       "\\end{tabular}\n"
      ],
      "text/markdown": [
       "\n",
       "A data.frame: 6 × 2\n",
       "\n",
       "| <!--/--> | sample &lt;chr&gt; | genotype &lt;chr&gt; |\n",
       "|---|---|---|\n",
       "| 1 | J100  | 0 |\n",
       "| 2 | J101  | 2 |\n",
       "| 3 | J10-2 | 0 |\n",
       "| 4 | J102  | 0 |\n",
       "| 5 | J103  | 0 |\n",
       "| 6 | J104  | 2 |\n",
       "\n"
      ],
      "text/plain": [
       "  sample genotype\n",
       "1 J100   0       \n",
       "2 J101   2       \n",
       "3 J10-2  0       \n",
       "4 J102   0       \n",
       "5 J103   0       \n",
       "6 J104   2       "
      ]
     },
     "metadata": {},
     "output_type": "display_data"
    },
    {
     "data": {
      "text/html": [
       "<table class=\"dataframe\">\n",
       "<caption>A data.frame: 2 × 2</caption>\n",
       "<thead>\n",
       "\t<tr><th></th><th scope=col>sample</th><th scope=col>genotype</th></tr>\n",
       "\t<tr><th></th><th scope=col>&lt;chr&gt;</th><th scope=col>&lt;chr&gt;</th></tr>\n",
       "</thead>\n",
       "<tbody>\n",
       "\t<tr><th scope=row>202</th><td>J85</td><td>0</td></tr>\n",
       "\t<tr><th scope=row>215</th><td>J98</td><td>2</td></tr>\n",
       "</tbody>\n",
       "</table>\n"
      ],
      "text/latex": [
       "A data.frame: 2 × 2\n",
       "\\begin{tabular}{r|ll}\n",
       "  & sample & genotype\\\\\n",
       "  & <chr> & <chr>\\\\\n",
       "\\hline\n",
       "\t202 & J85 & 0\\\\\n",
       "\t215 & J98 & 2\\\\\n",
       "\\end{tabular}\n"
      ],
      "text/markdown": [
       "\n",
       "A data.frame: 2 × 2\n",
       "\n",
       "| <!--/--> | sample &lt;chr&gt; | genotype &lt;chr&gt; |\n",
       "|---|---|---|\n",
       "| 202 | J85 | 0 |\n",
       "| 215 | J98 | 2 |\n",
       "\n"
      ],
      "text/plain": [
       "    sample genotype\n",
       "202 J85    0       \n",
       "215 J98    2       "
      ]
     },
     "metadata": {},
     "output_type": "display_data"
    }
   ],
   "source": [
    "eqtl <- 'Chr05_90700977'\n",
    "g1 <- genotype$bed[,eqtl]\n",
    "\n",
    "g1_df <- data.frame(sample=names(g1),genotype=as.character(unname(g1)),stringsAsFactors = F)\n",
    "\n",
    "subset(g1_df,sample %in% c('J85','J98'))"
   ]
  },
  {
   "cell_type": "code",
   "execution_count": 9,
   "id": "fd03c2df-5170-4b19-b91a-760e2d22feb0",
   "metadata": {},
   "outputs": [
    {
     "data": {
      "text/html": [
       "'AA'"
      ],
      "text/latex": [
       "'AA'"
      ],
      "text/markdown": [
       "'AA'"
      ],
      "text/plain": [
       "[1] \"AA\""
      ]
     },
     "metadata": {},
     "output_type": "display_data"
    },
    {
     "data": {
      "text/html": [
       "'TT'"
      ],
      "text/latex": [
       "'TT'"
      ],
      "text/markdown": [
       "'TT'"
      ],
      "text/plain": [
       "[1] \"TT\""
      ]
     },
     "metadata": {},
     "output_type": "display_data"
    }
   ],
   "source": [
    "# 0是A2\n",
    "base <- subset(genotype$bim,V2==eqtl)\n",
    "base0 <- paste0(base$V6,base$V6) # 0对应A2\n",
    "base2 <- paste0(base$V5,base$V5)\n",
    "\n",
    "base0\n",
    "base2"
   ]
  },
  {
   "cell_type": "code",
   "execution_count": null,
   "id": "c12a5cc2-3544-43b9-a12f-ab012748388b",
   "metadata": {},
   "outputs": [],
   "source": []
  }
 ],
 "metadata": {
  "kernelspec": {
   "display_name": "R (mashr)",
   "language": "R",
   "name": "ir_mashr"
  },
  "language_info": {
   "codemirror_mode": "r",
   "file_extension": ".r",
   "mimetype": "text/x-r-source",
   "name": "R",
   "pygments_lexer": "r",
   "version": "3.6.3"
  }
 },
 "nbformat": 4,
 "nbformat_minor": 5
}
